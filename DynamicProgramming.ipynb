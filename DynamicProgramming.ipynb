{
 "cells": [
  {
   "cell_type": "markdown",
   "metadata": {},
   "source": [
    "Dynamic Programming"
   ]
  },
  {
   "cell_type": "markdown",
   "metadata": {},
   "source": [
    "Ex1: Allocate Pages"
   ]
  },
  {
   "cell_type": "code",
   "execution_count": null,
   "metadata": {},
   "outputs": [
    {
     "name": "stdout",
     "output_type": "stream",
     "text": [
      "113\n"
     ]
    }
   ],
   "source": [
    "from pprint import pprint\n",
    "B = list(map(int, input().split()))\n",
    "S = int(input())\n",
    "dp = [[None for j in range(S + 1)] for i in range(len(B) + 1)]\n",
    "C = [[0 for j in range(S + 1)] for i in range(len(B) + 1)]\n",
    "\n",
    "# availability check\n",
    "if len(B) < S:\n",
    "    print(-1)\n",
    "    exit()\n",
    "\n",
    "\n",
    "def solve(books, num_stu):\n",
    "    # base cases\n",
    "    if num_stu == 1:\n",
    "        return sum(books)\n",
    "    elif len(books) == num_stu:\n",
    "        return max(books)\n",
    "    \n",
    "    # available check\n",
    "    if C[len(books)][num_stu]:\n",
    "        return dp[len(books)][num_stu]\n",
    "    \n",
    "    # main\n",
    "    res = float('inf')\n",
    "    for i in range(num_stu - 1, len(books)):\n",
    "        lhalf = books[:i]\n",
    "        rhalf = books[i:]\n",
    "        res = min(res, max(sum(rhalf), solve(lhalf, num_stu-1)))\n",
    "    dp[len(books)][num_stu] = res\n",
    "    C[len(books)][num_stu] = 1\n",
    "    return res\n",
    "\n",
    "pprint(solve(B, S))"
   ]
  },
  {
   "cell_type": "markdown",
   "metadata": {},
   "source": [
    "Ex2: Coin Exchange"
   ]
  },
  {
   "cell_type": "code",
   "execution_count": null,
   "metadata": {},
   "outputs": [],
   "source": [
    "n, X = map(int, input().split())\n",
    "D = set(map(int, input().split()))\n",
    "\n",
    "dp = [1e10 for _ in range(X + 1)]\n",
    "check = [0 for _ in range(X + 1)]\n",
    "for i in D:\n",
    "    dp[i] = 1\n",
    "    check[i] = 1\n",
    "\n",
    "def coin_ex(coins, num):\n",
    "    if num < min(coins):\n",
    "        return 1e10\n",
    "    elif check[num]:\n",
    "        return dp[num]\n",
    "    else:\n",
    "        temp = 1e10\n",
    "        for i in coins:\n",
    "            temp = min(temp, 1 + coin_ex(coins, num-i))\n",
    "        dp[num] = temp\n",
    "        check[num] = 1\n",
    "        return dp[num]\n",
    "        \n",
    "print(coin_ex(D, X))"
   ]
  },
  {
   "cell_type": "markdown",
   "metadata": {},
   "source": [
    "Ex3: Fibonacci"
   ]
  },
  {
   "cell_type": "code",
   "execution_count": 12,
   "metadata": {},
   "outputs": [
    {
     "name": "stdout",
     "output_type": "stream",
     "text": [
      "354224848179261915075\n"
     ]
    }
   ],
   "source": [
    "dp = {}\n",
    "\n",
    "def fib(n):\n",
    "    # base check\n",
    "    if n <= 2:\n",
    "        return 1\n",
    "    \n",
    "    # dp check\n",
    "    if n in dp:\n",
    "        return dp[n]\n",
    "    \n",
    "    # main\n",
    "    res = fib(n - 1) + fib(n - 2)\n",
    "    dp[n] = res\n",
    "\n",
    "    return res\n",
    "\n",
    "print(fib(100))"
   ]
  },
  {
   "cell_type": "markdown",
   "metadata": {},
   "source": [
    "Ex4: Longest increasing subsequence"
   ]
  },
  {
   "cell_type": "code",
   "execution_count": null,
   "metadata": {},
   "outputs": [],
   "source": [
    "n = int(input())\n",
    "lst = list(map(int, input().split()))\n",
    "dp = [1 for _ in range(n)]\n",
    "\n",
    "for i in range(n):\n",
    "    for j in range(i):\n",
    "        if lst[j] < lst[i]:\n",
    "            dp[i] = max(dp[i], dp[j] + 1)\n",
    "\n",
    "print(max(dp))"
   ]
  },
  {
   "cell_type": "markdown",
   "metadata": {},
   "source": [
    "Ex5: Equal Frequency Binning"
   ]
  },
  {
   "cell_type": "code",
   "execution_count": null,
   "metadata": {},
   "outputs": [],
   "source": [
    "#PYTHON \n",
    "n, k = map(int, input().split())\n",
    "arr = []\n",
    "for _ in range(n):\n",
    "    idx, frequency = map(int, input().split())\n",
    "    arr.append(frequency)\n",
    "dp = [[[float('inf'), float('inf')] for j in range(k)] for i in range(n)]\n",
    "\n",
    "for i in range(n):\n",
    "    dp[i][0] = [sum(arr[:i + 1]), sum(arr[:i + 1])]\n",
    "    if i < k and i != 0:\n",
    "        dp[i][i] = [max(arr[:i + 1]), min(arr[:i + 1])]\n",
    "\n",
    "for j in range(1, k):\n",
    "    for i in range(j + 1, n):\n",
    "        temp = [float('inf'), float('-inf')]\n",
    "        for m in range(1, i + 1):\n",
    "            max_ = max(sum(arr[i - m + 1:i + 1]), dp[i - m][j - 1][0])\n",
    "            min_ = min(sum(arr[i - m + 1:i + 1]), dp[i - m][j - 1][1])\n",
    "            if max_ - min_ < temp[0] - temp[1]:\n",
    "                temp = [max_, min_]\n",
    "        dp[i][j] = temp\n",
    "\n",
    "# print(arr)\n",
    "# from pprint import pprint\n",
    "# pprint(dp)\n",
    "print(dp[n - 1][k - 1][0] - dp[n - 1][k - 1][1])"
   ]
  }
 ],
 "metadata": {
  "kernelspec": {
   "display_name": "Python 3",
   "language": "python",
   "name": "python3"
  },
  "language_info": {
   "codemirror_mode": {
    "name": "ipython",
    "version": 3
   },
   "file_extension": ".py",
   "mimetype": "text/x-python",
   "name": "python",
   "nbconvert_exporter": "python",
   "pygments_lexer": "ipython3",
   "version": "3.12.6"
  }
 },
 "nbformat": 4,
 "nbformat_minor": 2
}
