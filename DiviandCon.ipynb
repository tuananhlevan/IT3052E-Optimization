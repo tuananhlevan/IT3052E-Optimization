{
 "cells": [
  {
   "cell_type": "markdown",
   "metadata": {},
   "source": [
    "Divide and Conquer method"
   ]
  },
  {
   "cell_type": "markdown",
   "metadata": {},
   "source": [
    "Ex1: Big number Multiplication"
   ]
  },
  {
   "cell_type": "code",
   "execution_count": 4,
   "metadata": {},
   "outputs": [
    {
     "name": "stdout",
     "output_type": "stream",
     "text": [
      "80442\n"
     ]
    }
   ],
   "source": [
    "a = input()\n",
    "b = input()\n",
    "def mul(a, b):\n",
    "    if len(a) <= 5 or len(b) <= 5:\n",
    "        return int(a) * int(b)\n",
    "    else:\n",
    "        a1 = a[:len(a)//2]\n",
    "        a2 = a[len(a)//2:]\n",
    "        b1 = b[:len(b)//2]\n",
    "        b2 = b[len(b)//2:]\n",
    "        # print(a1, a2, b1, b2)\n",
    "        return mul(a1, b1) * 10**(len(a2) + len(b2)) + mul(a1, b2) * 10**(len(a2)) + mul(a2, b1) * 10**(len(b2)) + mul(a2, b2)\n",
    "\n",
    "if __name__ == \"__main__\":\n",
    "    print(str(mul(a, b)))"
   ]
  },
  {
   "cell_type": "markdown",
   "metadata": {},
   "source": [
    "Ex2: Allocate pages to students"
   ]
  },
  {
   "cell_type": "code",
   "execution_count": null,
   "metadata": {},
   "outputs": [
    {
     "name": "stdout",
     "output_type": "stream",
     "text": [
      "113 90 203 146\n",
      "90 90 113 101\n",
      "90 101 113 107\n",
      "90 107 113 110\n",
      "90 110 113 111\n",
      "90 111 113 112\n",
      "113\n"
     ]
    }
   ],
   "source": [
    "book = list(map(int, input().split()))\n",
    "num_stu = int(input())\n",
    "\n",
    "if num_stu > len(book):\n",
    "    print(-1)\n",
    "else:\n",
    "    low = max(book)\n",
    "    up = sum(book)\n",
    "\n",
    "    def fix_limit(lower, upper):\n",
    "        if lower - upper >= -1:\n",
    "            return upper\n",
    "        mid = (lower + upper) // 2\n",
    "        allo = []\n",
    "        temp = 0\n",
    "        for _ in book:\n",
    "            if temp + _ > mid:\n",
    "                allo.append(temp)\n",
    "                temp = 0\n",
    "            temp += _\n",
    "        else:\n",
    "            allo.append(temp)\n",
    "        if len(allo) > num_stu:\n",
    "            # print(max(allo), lower, upper, mid)\n",
    "            return fix_limit(mid, upper)\n",
    "        else:\n",
    "            # print(max(allo), lower, upper, mid)\n",
    "            return fix_limit(lower, max(allo))\n",
    "\n",
    "    print(fix_limit(low, up))"
   ]
  },
  {
   "cell_type": "markdown",
   "metadata": {},
   "source": [
    "Ex3: Equal Payment Loan"
   ]
  },
  {
   "cell_type": "code",
   "execution_count": null,
   "metadata": {},
   "outputs": [],
   "source": [
    "A = int(input())\n",
    "r = float(input())\n",
    "n = int(input())\n",
    "\n",
    "min = 0             # inf month monthly pay\n",
    "max = A * (1 + r)   # 1-month monlthy pay\n",
    "total = A * (1 + r)**n\n",
    "\n",
    "def binary_search(min, max):\n",
    "    if max - min <= 1e-3:\n",
    "        return max\n",
    "    \n",
    "    monthly_pay = (max + min) / 2\n",
    "    total_pay = monthly_pay * ((1 + r)**n - 1) / r\n",
    "\n",
    "    if total_pay > total:\n",
    "        # print(monthly_pay, total_pay, total, 1)\n",
    "        return binary_search(min, monthly_pay)\n",
    "    elif total_pay < total:\n",
    "        # print(monthly_pay, total, total_pay, 2)\n",
    "        return binary_search(monthly_pay, max)\n",
    "    else:\n",
    "        return monthly_pay\n",
    "\n",
    "print(int(binary_search(min, max)//1))"
   ]
  },
  {
   "cell_type": "markdown",
   "metadata": {},
   "source": [
    "Ex4: Longest Increasing Subsequence"
   ]
  },
  {
   "cell_type": "code",
   "execution_count": null,
   "metadata": {},
   "outputs": [],
   "source": [
    "#PYTHON\n",
    "n = int(input())\n",
    "arr = list(map(int, input().split()))\n",
    "dp = [arr[0]]\n",
    "\n",
    "def binary_search(n, left, right):\n",
    "    mid = (left + right) // 2 + 1 if (left + right) % 2 else (left + right) // 2\n",
    "    # print(left, mid, right, n, dp)\n",
    "\n",
    "    if dp[mid - 1] < n and dp[mid] >= n:\n",
    "        return mid\n",
    "    elif dp[mid - 1] >= n:\n",
    "        return binary_search(n, left, mid)\n",
    "    elif dp[mid] < n:\n",
    "        return binary_search(n, mid, right)\n",
    "    \n",
    "\n",
    "for i in arr[1:]:\n",
    "    if i <= dp[0]:\n",
    "        dp[0] = i\n",
    "    elif i > dp[len(dp) - 1]:\n",
    "        dp.append(i)\n",
    "    else:\n",
    "        dp[binary_search(i, 0, len(dp) - 1)] = i\n",
    "\n",
    "print(len(dp))"
   ]
  },
  {
   "cell_type": "markdown",
   "metadata": {},
   "source": [
    "Ex5: Equal Frequency Binning"
   ]
  },
  {
   "cell_type": "code",
   "execution_count": null,
   "metadata": {},
   "outputs": [],
   "source": []
  }
 ],
 "metadata": {
  "kernelspec": {
   "display_name": "Python 3",
   "language": "python",
   "name": "python3"
  },
  "language_info": {
   "codemirror_mode": {
    "name": "ipython",
    "version": 3
   },
   "file_extension": ".py",
   "mimetype": "text/x-python",
   "name": "python",
   "nbconvert_exporter": "python",
   "pygments_lexer": "ipython3",
   "version": "3.12.6"
  }
 },
 "nbformat": 4,
 "nbformat_minor": 2
}
