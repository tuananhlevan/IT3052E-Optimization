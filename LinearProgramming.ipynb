{
 "cells": [
  {
   "cell_type": "markdown",
   "metadata": {},
   "source": [
    "2 products P1, P2\n",
    "\n",
    "revenue: 5, 3\n",
    "\n",
    "manufacturing cost: 2, 3\n",
    "\n",
    "storage cost: 1, 3\n",
    "\n",
    "compute number of P1, P2\n",
    "\n",
    "total manufacturing cost <= 200\n",
    "\n",
    "total storage <= 150\n",
    "\n",
    "total revenue -> max"
   ]
  },
  {
   "cell_type": "code",
   "execution_count": null,
   "metadata": {},
   "outputs": [],
   "source": [
    "rev = [5, 7]\n",
    "manu = [2, 3]\n",
    "sto = [1, 3]\n",
    "\n",
    "# 2x + 3y <= 200 mal_cost\n",
    "# x + 3y <= 150 sto_cost\n",
    "\n",
    "# "
   ]
  },
  {
   "cell_type": "code",
   "execution_count": null,
   "metadata": {},
   "outputs": [],
   "source": []
  }
 ],
 "metadata": {
  "kernelspec": {
   "display_name": "Python 3",
   "language": "python",
   "name": "python3"
  },
  "language_info": {
   "codemirror_mode": {
    "name": "ipython",
    "version": 3
   },
   "file_extension": ".py",
   "mimetype": "text/x-python",
   "name": "python",
   "nbconvert_exporter": "python",
   "pygments_lexer": "ipython3",
   "version": "3.12.6"
  }
 },
 "nbformat": 4,
 "nbformat_minor": 2
}
